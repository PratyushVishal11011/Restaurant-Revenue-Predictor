{
 "cells": [
  {
   "cell_type": "markdown",
   "id": "b511003d-26af-4cb2-8690-8bdde345b2e6",
   "metadata": {},
   "source": [
    "Import required libraries"
   ]
  },
  {
   "cell_type": "code",
   "execution_count": 65,
   "id": "8baa5d1e-3c72-47d2-8303-a62c2e49661e",
   "metadata": {},
   "outputs": [],
   "source": [
    "import pandas as pd\n",
    "import numpy as np\n",
    "from matplotlib import pyplot as plt"
   ]
  },
  {
   "cell_type": "markdown",
   "id": "f83f88cb-13a3-471f-a4a4-5fa5f13bcf41",
   "metadata": {},
   "source": [
    "Load dataset"
   ]
  },
  {
   "cell_type": "code",
   "execution_count": 84,
   "id": "f3365420-547a-4239-acf4-157d70d4c931",
   "metadata": {},
   "outputs": [],
   "source": [
    "dataset = pd.read_csv(\"restaurant_data.csv\")\n",
    "X = dataset.iloc[:, 1:-1].values\n",
    "y = dataset.iloc[:, -1].values"
   ]
  },
  {
   "cell_type": "markdown",
   "id": "dce3527d-2dd9-4b11-9b15-766771a3f6bd",
   "metadata": {},
   "source": [
    "Check and account for missing values"
   ]
  },
  {
   "cell_type": "code",
   "execution_count": 60,
   "id": "c7373638-03bc-4c18-8c80-11e39b40dcf9",
   "metadata": {},
   "outputs": [],
   "source": [
    "dataset.isnull().sum()\n",
    "np.set_printoptions(threshold=np.inf)"
   ]
  },
  {
   "cell_type": "markdown",
   "id": "8efa7854-6f19-48cc-9c2b-889597f603c7",
   "metadata": {},
   "source": [
    "Encode categorical data -> Location, Cuisine and Parking availability"
   ]
  },
  {
   "cell_type": "code",
   "execution_count": 85,
   "id": "4dda750a-2b9a-415b-a00c-4e872b3cd849",
   "metadata": {},
   "outputs": [],
   "source": [
    "from sklearn.compose import ColumnTransformer\n",
    "from sklearn.preprocessing import OneHotEncoder\n",
    "column_transformer = ColumnTransformer(transformers = [(\"encoder\", OneHotEncoder(), [0, 1, 12])], remainder = \"passthrough\")\n",
    "X = np.array(column_transformer.fit_transform(X))"
   ]
  },
  {
   "cell_type": "markdown",
   "id": "896049cd-809c-490c-9356-e8bee82e7e2e",
   "metadata": {},
   "source": [
    "Split given data into training and test sets"
   ]
  },
  {
   "cell_type": "code",
   "execution_count": 110,
   "id": "d0633953-b975-4834-acd9-e8b0b615d5cf",
   "metadata": {},
   "outputs": [],
   "source": [
    "from sklearn.model_selection import train_test_split\n",
    "X_train, X_test, y_train, y_test = train_test_split(X, y, test_size = 0.25, random_state = 1)"
   ]
  },
  {
   "cell_type": "markdown",
   "id": "720869cc-a9bd-449c-b22a-306bf32b3412",
   "metadata": {},
   "source": [
    "Apply feature scaling to all the non categorical data to bring uniformity in the scale"
   ]
  },
  {
   "cell_type": "code",
   "execution_count": 111,
   "id": "24979bb9-e7af-498f-9959-4ddb80a9af17",
   "metadata": {},
   "outputs": [],
   "source": [
    "from sklearn.preprocessing import StandardScaler\n",
    "ss = StandardScaler()\n",
    "X_train[:, 11:] = ss.fit_transform(X_train[:, 11:])\n",
    "X_test[:, 11:] = ss.transform(X_test[:, 11:])"
   ]
  },
  {
   "cell_type": "markdown",
   "id": "c338ed75-9af5-4ffe-bd5e-fda116871892",
   "metadata": {},
   "source": [
    "Create and initialize the linear regression class and pass the training data to it"
   ]
  },
  {
   "cell_type": "code",
   "execution_count": 112,
   "id": "c862caa0-c818-4501-a9ac-10b1ca421d53",
   "metadata": {},
   "outputs": [
    {
     "data": {
      "text/html": [
       "<style>#sk-container-id-7 {color: black;background-color: white;}#sk-container-id-7 pre{padding: 0;}#sk-container-id-7 div.sk-toggleable {background-color: white;}#sk-container-id-7 label.sk-toggleable__label {cursor: pointer;display: block;width: 100%;margin-bottom: 0;padding: 0.3em;box-sizing: border-box;text-align: center;}#sk-container-id-7 label.sk-toggleable__label-arrow:before {content: \"▸\";float: left;margin-right: 0.25em;color: #696969;}#sk-container-id-7 label.sk-toggleable__label-arrow:hover:before {color: black;}#sk-container-id-7 div.sk-estimator:hover label.sk-toggleable__label-arrow:before {color: black;}#sk-container-id-7 div.sk-toggleable__content {max-height: 0;max-width: 0;overflow: hidden;text-align: left;background-color: #f0f8ff;}#sk-container-id-7 div.sk-toggleable__content pre {margin: 0.2em;color: black;border-radius: 0.25em;background-color: #f0f8ff;}#sk-container-id-7 input.sk-toggleable__control:checked~div.sk-toggleable__content {max-height: 200px;max-width: 100%;overflow: auto;}#sk-container-id-7 input.sk-toggleable__control:checked~label.sk-toggleable__label-arrow:before {content: \"▾\";}#sk-container-id-7 div.sk-estimator input.sk-toggleable__control:checked~label.sk-toggleable__label {background-color: #d4ebff;}#sk-container-id-7 div.sk-label input.sk-toggleable__control:checked~label.sk-toggleable__label {background-color: #d4ebff;}#sk-container-id-7 input.sk-hidden--visually {border: 0;clip: rect(1px 1px 1px 1px);clip: rect(1px, 1px, 1px, 1px);height: 1px;margin: -1px;overflow: hidden;padding: 0;position: absolute;width: 1px;}#sk-container-id-7 div.sk-estimator {font-family: monospace;background-color: #f0f8ff;border: 1px dotted black;border-radius: 0.25em;box-sizing: border-box;margin-bottom: 0.5em;}#sk-container-id-7 div.sk-estimator:hover {background-color: #d4ebff;}#sk-container-id-7 div.sk-parallel-item::after {content: \"\";width: 100%;border-bottom: 1px solid gray;flex-grow: 1;}#sk-container-id-7 div.sk-label:hover label.sk-toggleable__label {background-color: #d4ebff;}#sk-container-id-7 div.sk-serial::before {content: \"\";position: absolute;border-left: 1px solid gray;box-sizing: border-box;top: 0;bottom: 0;left: 50%;z-index: 0;}#sk-container-id-7 div.sk-serial {display: flex;flex-direction: column;align-items: center;background-color: white;padding-right: 0.2em;padding-left: 0.2em;position: relative;}#sk-container-id-7 div.sk-item {position: relative;z-index: 1;}#sk-container-id-7 div.sk-parallel {display: flex;align-items: stretch;justify-content: center;background-color: white;position: relative;}#sk-container-id-7 div.sk-item::before, #sk-container-id-7 div.sk-parallel-item::before {content: \"\";position: absolute;border-left: 1px solid gray;box-sizing: border-box;top: 0;bottom: 0;left: 50%;z-index: -1;}#sk-container-id-7 div.sk-parallel-item {display: flex;flex-direction: column;z-index: 1;position: relative;background-color: white;}#sk-container-id-7 div.sk-parallel-item:first-child::after {align-self: flex-end;width: 50%;}#sk-container-id-7 div.sk-parallel-item:last-child::after {align-self: flex-start;width: 50%;}#sk-container-id-7 div.sk-parallel-item:only-child::after {width: 0;}#sk-container-id-7 div.sk-dashed-wrapped {border: 1px dashed gray;margin: 0 0.4em 0.5em 0.4em;box-sizing: border-box;padding-bottom: 0.4em;background-color: white;}#sk-container-id-7 div.sk-label label {font-family: monospace;font-weight: bold;display: inline-block;line-height: 1.2em;}#sk-container-id-7 div.sk-label-container {text-align: center;}#sk-container-id-7 div.sk-container {/* jupyter's `normalize.less` sets `[hidden] { display: none; }` but bootstrap.min.css set `[hidden] { display: none !important; }` so we also need the `!important` here to be able to override the default hidden behavior on the sphinx rendered scikit-learn.org. See: https://github.com/scikit-learn/scikit-learn/issues/21755 */display: inline-block !important;position: relative;}#sk-container-id-7 div.sk-text-repr-fallback {display: none;}</style><div id=\"sk-container-id-7\" class=\"sk-top-container\"><div class=\"sk-text-repr-fallback\"><pre>LinearRegression()</pre><b>In a Jupyter environment, please rerun this cell to show the HTML representation or trust the notebook. <br />On GitHub, the HTML representation is unable to render, please try loading this page with nbviewer.org.</b></div><div class=\"sk-container\" hidden><div class=\"sk-item\"><div class=\"sk-estimator sk-toggleable\"><input class=\"sk-toggleable__control sk-hidden--visually\" id=\"sk-estimator-id-7\" type=\"checkbox\" checked><label for=\"sk-estimator-id-7\" class=\"sk-toggleable__label sk-toggleable__label-arrow\">LinearRegression</label><div class=\"sk-toggleable__content\"><pre>LinearRegression()</pre></div></div></div></div></div>"
      ],
      "text/plain": [
       "LinearRegression()"
      ]
     },
     "execution_count": 112,
     "metadata": {},
     "output_type": "execute_result"
    }
   ],
   "source": [
    "from sklearn.linear_model import LinearRegression\n",
    "lr = LinearRegression()\n",
    "lr.fit(X_train, y_train)"
   ]
  },
  {
   "cell_type": "markdown",
   "id": "8f588fff-487b-4fc1-aedd-fc1017b24517",
   "metadata": {},
   "source": [
    "Use the linear regressor with the testing data with known outcomes and compare the predictions"
   ]
  },
  {
   "cell_type": "code",
   "execution_count": 113,
   "id": "543325b9-8c9b-4c79-afa1-6bf1ee7ecf0e",
   "metadata": {},
   "outputs": [],
   "source": [
    "y_pred = lr.predict(X_test)\n",
    "np.set_printoptions(precision = 2)\n",
    "val_comparison = np.concatenate((y_pred.reshape(len(y_pred), 1), y_test.reshape(len(y_test), 1)), 1)"
   ]
  },
  {
   "cell_type": "markdown",
   "id": "83bffab5-86ff-4683-abe9-032311de3b5a",
   "metadata": {},
   "source": [
    "Average error in the model predictions"
   ]
  },
  {
   "cell_type": "code",
   "execution_count": 114,
   "id": "85cd442d-b6f3-4fe2-bf7c-26a06e45cc9e",
   "metadata": {},
   "outputs": [
    {
     "name": "stdout",
     "output_type": "stream",
     "text": [
      "Error = 7.83%\n"
     ]
    }
   ],
   "source": [
    "import statistics\n",
    "errors = []\n",
    "for i in range(len(val_comparison)):\n",
    "    pos = val_comparison[i]\n",
    "    e = (abs(pos[0]-pos[1])/y_test[i]) * 100\n",
    "    errors.append(e)\n",
    "print(f\"Error = {round(statistics.mean(errors), 2)}%\")"
   ]
  },
  {
   "cell_type": "code",
   "execution_count": null,
   "id": "148bfe95-134f-4fbb-a2bf-3c18f35844fa",
   "metadata": {},
   "outputs": [],
   "source": []
  }
 ],
 "metadata": {
  "kernelspec": {
   "display_name": "Python 3 (ipykernel)",
   "language": "python",
   "name": "python3"
  },
  "language_info": {
   "codemirror_mode": {
    "name": "ipython",
    "version": 3
   },
   "file_extension": ".py",
   "mimetype": "text/x-python",
   "name": "python",
   "nbconvert_exporter": "python",
   "pygments_lexer": "ipython3",
   "version": "3.11.7"
  }
 },
 "nbformat": 4,
 "nbformat_minor": 5
}
